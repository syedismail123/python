{
 "cells": [
  {
   "cell_type": "markdown",
   "id": "b2ea57ed-575e-409f-b278-779d6fced9e4",
   "metadata": {},
   "source": [
    "#list:\n",
    "it is a collection of objects,elements,items\n",
    "it is represented by[] and seperated by commas,,\n",
    "lists are mutable"
   ]
  },
  {
   "cell_type": "code",
   "execution_count": 3,
   "id": "52fcc424-9e25-4344-8234-b6d0aec216e6",
   "metadata": {},
   "outputs": [
    {
     "name": "stdout",
     "output_type": "stream",
     "text": [
      "[2, 4, 5, 6, 7, 9]\n",
      "<class 'list'>\n"
     ]
    }
   ],
   "source": [
    "l1 =[2,4,5,6,7,9]\n",
    "print(l1)\n",
    "print(type(l1))\n"
   ]
  },
  {
   "cell_type": "code",
   "execution_count": 8,
   "id": "ea389b49-4888-4c82-9f2e-134aa87503e9",
   "metadata": {},
   "outputs": [
    {
     "name": "stdout",
     "output_type": "stream",
     "text": [
      "[1, 2.3, True, (4+5j), 'ismail']\n"
     ]
    }
   ],
   "source": [
    "l1 = [1,2.3,True,4+5j,\"ismail\"]\n",
    "print(l1)"
   ]
  },
  {
   "cell_type": "code",
   "execution_count": 10,
   "id": "55a63634-ab64-43a8-ac23-42792ea3fee1",
   "metadata": {},
   "outputs": [
    {
     "name": "stdout",
     "output_type": "stream",
     "text": [
      "[22, 33, 46, 88, 67, 19, 47] [33, 65, 12, 45, 78, 97, 23]\n"
     ]
    }
   ],
   "source": [
    "l1=[22,33,46,88,67,19,47]\n",
    "l2=[33,65,12,45,78,97,23]\n",
    "print(l1,l2)"
   ]
  },
  {
   "cell_type": "markdown",
   "id": "dfd892ab-5431-4aff-bd41-413c2b8b2b51",
   "metadata": {},
   "source": [
    "# To Access the element we use index and slicing method"
   ]
  },
  {
   "cell_type": "code",
   "execution_count": null,
   "id": "2c38257f-d0ae-4027-af65-d731130e48eb",
   "metadata": {},
   "outputs": [],
   "source": [
    "#index:\n",
    "\n"
   ]
  },
  {
   "cell_type": "code",
   "execution_count": 12,
   "id": "3cb553af-2f05-464d-8973-f30a0e32e196",
   "metadata": {},
   "outputs": [
    {
     "data": {
      "text/plain": [
       "2"
      ]
     },
     "execution_count": 12,
     "metadata": {},
     "output_type": "execute_result"
    }
   ],
   "source": [
    "index = [1,2,9,4,5,7,4]\n",
    "index[1]"
   ]
  },
  {
   "cell_type": "code",
   "execution_count": 14,
   "id": "f8d16adc-dcf2-4327-8290-2a4fd34e579a",
   "metadata": {},
   "outputs": [
    {
     "data": {
      "text/plain": [
       "7"
      ]
     },
     "execution_count": 14,
     "metadata": {},
     "output_type": "execute_result"
    }
   ],
   "source": [
    "index[5]"
   ]
  },
  {
   "cell_type": "code",
   "execution_count": 16,
   "id": "1674fd36-7e78-470a-bfcb-983cc427ccc4",
   "metadata": {},
   "outputs": [
    {
     "data": {
      "text/plain": [
       "5"
      ]
     },
     "execution_count": 16,
     "metadata": {},
     "output_type": "execute_result"
    }
   ],
   "source": [
    "index[4]"
   ]
  },
  {
   "cell_type": "markdown",
   "id": "6f7ff548-abbb-42bf-a656-977dcb342bb2",
   "metadata": {},
   "source": [
    "# we have two index one is positive index and other is negative index"
   ]
  },
  {
   "cell_type": "markdown",
   "id": "ce66a74e-3572-430f-ab71-e80827074065",
   "metadata": {},
   "source": [
    "# positive index ;\n",
    "In positive index value is start from left to right and it contain the values from 0 to in"
   ]
  },
  {
   "cell_type": "code",
   "execution_count": 27,
   "id": "667098f9-a376-482d-b012-5ff7e07712ee",
   "metadata": {},
   "outputs": [
    {
     "data": {
      "text/plain": [
       "7"
      ]
     },
     "execution_count": 27,
     "metadata": {},
     "output_type": "execute_result"
    }
   ],
   "source": [
    " index=[1,2,3,4,5,6,7,8]\n",
    " index[6]\n"
   ]
  },
  {
   "cell_type": "code",
   "execution_count": 33,
   "id": "907247ab-6128-4ffc-aae3-f7f12ff554d7",
   "metadata": {},
   "outputs": [
    {
     "data": {
      "text/plain": [
       "43"
      ]
     },
     "execution_count": 33,
     "metadata": {},
     "output_type": "execute_result"
    }
   ],
   "source": [
    " index =[88,93,56,87,36,8,12,43]\n",
    " index[7]"
   ]
  },
  {
   "cell_type": "markdown",
   "id": "5c68ee67-5ee2-477a-af49-b96e7d34119b",
   "metadata": {},
   "source": [
    "#Negative index:\n",
    "Negative index also contain values from 0 to infinity from right to left (-)"
   ]
  },
  {
   "cell_type": "code",
   "execution_count": 40,
   "id": "bf9ceabb-4c9d-4e13-8873-afb2021145d3",
   "metadata": {},
   "outputs": [
    {
     "data": {
      "text/plain": [
       "9"
      ]
     },
     "execution_count": 40,
     "metadata": {},
     "output_type": "execute_result"
    }
   ],
   "source": [
    "index = [3,5,7,9,1,2,6,8]\n",
    "index[-5]"
   ]
  },
  {
   "cell_type": "code",
   "execution_count": 42,
   "id": "24a63a1c-b533-4a3a-a6ce-863844cfe196",
   "metadata": {},
   "outputs": [
    {
     "data": {
      "text/plain": [
       "3"
      ]
     },
     "execution_count": 42,
     "metadata": {},
     "output_type": "execute_result"
    }
   ],
   "source": [
    "index[-8]"
   ]
  },
  {
   "cell_type": "code",
   "execution_count": 44,
   "id": "b13e4e9d-6773-4776-9d44-b8cf29b4c100",
   "metadata": {},
   "outputs": [
    {
     "data": {
      "text/plain": [
       "6"
      ]
     },
     "execution_count": 44,
     "metadata": {},
     "output_type": "execute_result"
    }
   ],
   "source": [
    "index[-2]"
   ]
  },
  {
   "cell_type": "markdown",
   "id": "72c43f44-cd07-402a-a92f-a4f0628b5955",
   "metadata": {},
   "source": [
    "slicing"
   ]
  },
  {
   "cell_type": "code",
   "execution_count": null,
   "id": "15471346-6a2b-4ef4-87b7-7c0e224aff40",
   "metadata": {},
   "outputs": [],
   "source": [
    "syntax ;\n",
    "a = [start index:end index] with (n-1)"
   ]
  },
  {
   "cell_type": "code",
   "execution_count": 132,
   "id": "191f108c-764d-4fcf-a1fd-478a75d0d353",
   "metadata": {},
   "outputs": [
    {
     "data": {
      "text/plain": [
       "[4, 5, 6, 7]"
      ]
     },
     "execution_count": 132,
     "metadata": {},
     "output_type": "execute_result"
    }
   ],
   "source": [
    "a=[2,3,4,5,6,7,8,99,34]\n",
    "a[2:6]\n"
   ]
  },
  {
   "cell_type": "code",
   "execution_count": null,
   "id": "766471c9-06bf-482b-8d75-02da3ea62fd6",
   "metadata": {},
   "outputs": [],
   "source": [
    "#concatenation;\n",
    "it is also known as adding of two things or two list together"
   ]
  },
  {
   "cell_type": "code",
   "execution_count": 67,
   "id": "75800c9f-bb8c-4731-b0cb-689dec62990f",
   "metadata": {},
   "outputs": [
    {
     "name": "stdout",
     "output_type": "stream",
     "text": [
      "[1, 2, 3, 4, 5, 6, 7, 8, 9, 0]\n"
     ]
    }
   ],
   "source": [
    "l1 =[1,2,3,4,5]\n",
    "l2=[6,7,8,9,0]\n",
    "l=l1+l2\n",
    "print(l)"
   ]
  },
  {
   "cell_type": "code",
   "execution_count": null,
   "id": "02c48aa7-50ba-4f00-8036-aa20c21da23c",
   "metadata": {},
   "outputs": [],
   "source": [
    "#repetation of number in list"
   ]
  },
  {
   "cell_type": "code",
   "execution_count": 69,
   "id": "dbf7f075-8a81-4621-947e-2490e30d2179",
   "metadata": {},
   "outputs": [
    {
     "data": {
      "text/plain": [
       "[6, 7, 8, 9, 0, 6, 7, 8, 9, 0, 6, 7, 8, 9, 0]"
      ]
     },
     "execution_count": 69,
     "metadata": {},
     "output_type": "execute_result"
    }
   ],
   "source": [
    "l2*3"
   ]
  },
  {
   "cell_type": "code",
   "execution_count": 73,
   "id": "da9afb3f-6e72-4d9c-99bb-38863ae947fe",
   "metadata": {},
   "outputs": [
    {
     "name": "stdout",
     "output_type": "stream",
     "text": [
      "[1, 2, 3, 4, 5, 1, 2, 3, 4, 5, 6, 7, 8, 9, 0, 6, 7, 8, 9, 0]\n"
     ]
    }
   ],
   "source": [
    "l=l1*2+l2*2\n",
    "print(l)"
   ]
  },
  {
   "cell_type": "code",
   "execution_count": 75,
   "id": "dd2de524-1923-408d-8765-e7774266f33d",
   "metadata": {},
   "outputs": [],
   "source": [
    "#lists are mutable means we can modifiy changes in a list"
   ]
  },
  {
   "cell_type": "code",
   "execution_count": 77,
   "id": "2823087f-23b1-4de6-ba0a-906ed81b4834",
   "metadata": {},
   "outputs": [
    {
     "data": {
      "text/plain": [
       "3"
      ]
     },
     "execution_count": 77,
     "metadata": {},
     "output_type": "execute_result"
    }
   ],
   "source": [
    "l1 = [1,2,3,4,5]\n",
    "l1[2]"
   ]
  },
  {
   "cell_type": "code",
   "execution_count": 100,
   "id": "f76965fa-7f9a-43a2-a92a-2ab3d3e48e62",
   "metadata": {},
   "outputs": [
    {
     "name": "stdout",
     "output_type": "stream",
     "text": [
      "[1, 2, 3, 'ismail', 5]\n"
     ]
    }
   ],
   "source": [
    "l1 = [1,2,3,4,5]\n",
    "l1[3]= \"ismail\"\n",
    "print(l1)\n",
    "\n"
   ]
  },
  {
   "cell_type": "code",
   "execution_count": 89,
   "id": "2e18ac26-454e-45a5-a2cb-612e8cab74b9",
   "metadata": {},
   "outputs": [],
   "source": [
    "#Append function : it add the elements at the end of the list\n"
   ]
  },
  {
   "cell_type": "code",
   "execution_count": 108,
   "id": "d8562326-276f-4678-a045-709a834d4e72",
   "metadata": {},
   "outputs": [
    {
     "name": "stdout",
     "output_type": "stream",
     "text": [
      "[1, 2, 3, 4, 5, 6, 3]\n"
     ]
    }
   ],
   "source": [
    "a=[1,2,3,4,5,6]\n",
    "a.append(3)\n",
    "print(a)"
   ]
  },
  {
   "cell_type": "code",
   "execution_count": 110,
   "id": "a9458cf0-2d52-4fda-a9f7-8a2266be1a3b",
   "metadata": {},
   "outputs": [
    {
     "name": "stdout",
     "output_type": "stream",
     "text": [
      "[3, 4, 6, 2, 6, 7, 9, 9]\n"
     ]
    }
   ],
   "source": [
    "b=[3,4,6,2,6,7,9]\n",
    "b.append(9)\n",
    "print(b)"
   ]
  },
  {
   "cell_type": "code",
   "execution_count": 112,
   "id": "3844846d-2532-40b5-beb7-0035103fbdc0",
   "metadata": {},
   "outputs": [],
   "source": [
    "#insert function it is a method used to insert the element at a particular place\n"
   ]
  },
  {
   "cell_type": "code",
   "execution_count": 114,
   "id": "277d30d7-bfca-43a8-90ce-98b29d851877",
   "metadata": {},
   "outputs": [
    {
     "name": "stdout",
     "output_type": "stream",
     "text": [
      "[2, 3, True, 5, 6, 8, 9, 33, 56, 31]\n"
     ]
    }
   ],
   "source": [
    "xyz=[2,3,5,6,8,9,33,56,31]\n",
    "xyz.insert(2,True)\n",
    "print(xyz)"
   ]
  },
  {
   "cell_type": "code",
   "execution_count": 116,
   "id": "61679556-6493-4691-bbf2-a8285942f1c6",
   "metadata": {},
   "outputs": [],
   "source": [
    "# remove function:"
   ]
  },
  {
   "cell_type": "code",
   "execution_count": 122,
   "id": "89acce7a-21df-4d93-b35a-1060708685f2",
   "metadata": {},
   "outputs": [
    {
     "name": "stdout",
     "output_type": "stream",
     "text": [
      "[2, 3, 4, 5, 6, 7, 8]\n"
     ]
    }
   ],
   "source": [
    " syed = [2,3,4,5,6,7,8,9]\n",
    " syed.remove(9)\n",
    " print(syed)"
   ]
  },
  {
   "cell_type": "code",
   "execution_count": null,
   "id": "a6fe735b-9a78-4758-8836-3791275e80f0",
   "metadata": {},
   "outputs": [],
   "source": []
  }
 ],
 "metadata": {
  "kernelspec": {
   "display_name": "Python 3 (ipykernel)",
   "language": "python",
   "name": "python3"
  },
  "language_info": {
   "codemirror_mode": {
    "name": "ipython",
    "version": 3
   },
   "file_extension": ".py",
   "mimetype": "text/x-python",
   "name": "python",
   "nbconvert_exporter": "python",
   "pygments_lexer": "ipython3",
   "version": "3.12.4"
  }
 },
 "nbformat": 4,
 "nbformat_minor": 5
}
