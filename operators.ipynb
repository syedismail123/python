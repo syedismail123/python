{
 "cells": [
  {
   "cell_type": "markdown",
   "id": "dd26c745-2d58-446b-aae0-02a4b0517936",
   "metadata": {},
   "source": [
    "ARTHAMETIC OPERATOR:"
   ]
  },
  {
   "cell_type": "code",
   "execution_count": 2,
   "id": "af49ba73-c2d2-4458-84c0-6a595acb4691",
   "metadata": {},
   "outputs": [
    {
     "name": "stdout",
     "output_type": "stream",
     "text": [
      "15\n"
     ]
    }
   ],
   "source": [
    "a = 5\n",
    "b= 10 \n",
    "c= a+b\n",
    "print(c)"
   ]
  },
  {
   "cell_type": "code",
   "execution_count": 4,
   "id": "0513f889-af8f-484b-81a7-be2004dce6e3",
   "metadata": {},
   "outputs": [
    {
     "name": "stdout",
     "output_type": "stream",
     "text": [
      "4\n"
     ]
    }
   ],
   "source": [
    "a= 27\n",
    "b=23\n",
    "c=a-b\n",
    "print(c)"
   ]
  },
  {
   "cell_type": "code",
   "execution_count": 6,
   "id": "a99da81e-384e-4172-aac1-9b1b810cd573",
   "metadata": {},
   "outputs": [
    {
     "name": "stdout",
     "output_type": "stream",
     "text": [
      "253\n"
     ]
    }
   ],
   "source": [
    "a=11\n",
    "b=23\n",
    "c=a*b\n",
    "print(c)"
   ]
  },
  {
   "cell_type": "code",
   "execution_count": 15,
   "id": "9e50471d-ec56-4647-9e77-7c11f138b65d",
   "metadata": {},
   "outputs": [
    {
     "name": "stdout",
     "output_type": "stream",
     "text": [
      "0.336734693877551\n"
     ]
    }
   ],
   "source": [
    "a =33\n",
    "b =98\n",
    "c=a/b\n",
    "print(c)\n",
    "\n"
   ]
  },
  {
   "cell_type": "code",
   "execution_count": 19,
   "id": "a215244a-d7fa-4f1d-8988-abc94226a3cd",
   "metadata": {},
   "outputs": [
    {
     "name": "stdout",
     "output_type": "stream",
     "text": [
      "23\n"
     ]
    }
   ],
   "source": [
    "a = 23\n",
    "b =67\n",
    "c=a%b\n",
    "print(c)"
   ]
  },
  {
   "cell_type": "code",
   "execution_count": 21,
   "id": "7d810844-3d2e-4700-a288-61968f392e9a",
   "metadata": {},
   "outputs": [
    {
     "name": "stdout",
     "output_type": "stream",
     "text": [
      "0\n"
     ]
    }
   ],
   "source": [
    "a = 22\n",
    "b = 44\n",
    "c= a//b\n",
    "print(c)"
   ]
  },
  {
   "cell_type": "code",
   "execution_count": 23,
   "id": "4fd79ce2-3817-4197-8228-eb515a2dfbba",
   "metadata": {},
   "outputs": [
    {
     "name": "stdout",
     "output_type": "stream",
     "text": [
      "8\n"
     ]
    }
   ],
   "source": [
    " a= 2\n",
    " b = 3\n",
    "c=a**b\n",
    "print(c)"
   ]
  },
  {
   "cell_type": "markdown",
   "id": "7ddbf024-4310-4078-8e2b-26fe41652508",
   "metadata": {},
   "source": [
    "ASSIGNMENT OPERATOR"
   ]
  },
  {
   "cell_type": "code",
   "execution_count": 26,
   "id": "96fe8825-7494-4e13-b409-fe53d72e8e89",
   "metadata": {},
   "outputs": [
    {
     "name": "stdout",
     "output_type": "stream",
     "text": [
      "15\n"
     ]
    }
   ],
   "source": [
    "a = 5\n",
    "b= 10 \n",
    "c= a+b\n",
    "print(c)"
   ]
  },
  {
   "cell_type": "code",
   "execution_count": 28,
   "id": "47dcabcc-5bf1-4f8a-b8e1-c81c2baa7526",
   "metadata": {},
   "outputs": [
    {
     "name": "stdout",
     "output_type": "stream",
     "text": [
      "15\n"
     ]
    }
   ],
   "source": [
    "a = 5\n",
    "b= 10\n",
    "a+=b\n",
    "\n",
    "print(a)"
   ]
  },
  {
   "cell_type": "code",
   "execution_count": 30,
   "id": "3620a3da-3da3-4a45-8424-ff3e21301950",
   "metadata": {},
   "outputs": [
    {
     "name": "stdout",
     "output_type": "stream",
     "text": [
      "-5\n"
     ]
    }
   ],
   "source": [
    "a = 5\n",
    "b= 10\n",
    "a-=b\n",
    "\n",
    "print(a)"
   ]
  },
  {
   "cell_type": "code",
   "execution_count": 32,
   "id": "a5a1c97e-7829-4883-bfff-d1c0b9fb0643",
   "metadata": {},
   "outputs": [
    {
     "name": "stdout",
     "output_type": "stream",
     "text": [
      "50\n"
     ]
    }
   ],
   "source": [
    "a = 5\n",
    "b= 10\n",
    "a*=b\n",
    "\n",
    "print(a)"
   ]
  },
  {
   "cell_type": "code",
   "execution_count": 34,
   "id": "d2fc024d-6f57-4e77-a1c0-9591ea3281f7",
   "metadata": {},
   "outputs": [
    {
     "name": "stdout",
     "output_type": "stream",
     "text": [
      "0.5\n"
     ]
    }
   ],
   "source": [
    "a = 5\n",
    "b= 10\n",
    "a/=b\n",
    "\n",
    "print(a)"
   ]
  },
  {
   "cell_type": "code",
   "execution_count": 36,
   "id": "acc1d7e0-840f-4588-9191-4fa831e9c0c0",
   "metadata": {},
   "outputs": [
    {
     "name": "stdout",
     "output_type": "stream",
     "text": [
      "0\n"
     ]
    }
   ],
   "source": []
  },
  {
   "cell_type": "code",
   "execution_count": 1,
   "id": "a0a0d8a9-c1f9-4da9-a8a3-b062168f6211",
   "metadata": {},
   "outputs": [
    {
     "name": "stdout",
     "output_type": "stream",
     "text": [
      "9765625\n"
     ]
    }
   ],
   "source": [
    "a = 5\n",
    "b= 10\n",
    "a**=b\n",
    "\n",
    "print(a)"
   ]
  },
  {
   "cell_type": "markdown",
   "id": "c48ca020-496e-428f-815b-bb6754c195cc",
   "metadata": {},
   "source": [
    "LOGICAL OPERATOR"
   ]
  },
  {
   "cell_type": "markdown",
   "id": "1b308109-ffe5-44de-a736-a2e1c8ed591d",
   "metadata": {},
   "source": [
    "AND OPERATOR:"
   ]
  },
  {
   "cell_type": "code",
   "execution_count": 6,
   "id": "71aa2508-7a0f-4d5a-b3c5-9ecd8d1d5d22",
   "metadata": {},
   "outputs": [
    {
     "name": "stdout",
     "output_type": "stream",
     "text": [
      "True\n"
     ]
    }
   ],
   "source": [
    "a = 4\n",
    "b = 3\n",
    "c = 5 \n",
    "d = 8\n",
    "print( a > b and c < d)\n"
   ]
  },
  {
   "cell_type": "code",
   "execution_count": 11,
   "id": "314a7eed-637d-4439-a6be-67c86ba39390",
   "metadata": {},
   "outputs": [
    {
     "name": "stdout",
     "output_type": "stream",
     "text": [
      "False\n"
     ]
    }
   ],
   "source": [
    "  a =8\n",
    "print( a < 3 or a < 4)"
   ]
  },
  {
   "cell_type": "code",
   "execution_count": 15,
   "id": "36ffed65-9639-48b1-a11a-03a0123b7870",
   "metadata": {},
   "outputs": [
    {
     "ename": "SyntaxError",
     "evalue": "invalid syntax. Perhaps you forgot a comma? (2713010879.py, line 2)",
     "output_type": "error",
     "traceback": [
      "\u001b[1;36m  Cell \u001b[1;32mIn[15], line 2\u001b[1;36m\u001b[0m\n\u001b[1;33m    print(a > 2 not a < 8 )\u001b[0m\n\u001b[1;37m          ^\u001b[0m\n\u001b[1;31mSyntaxError\u001b[0m\u001b[1;31m:\u001b[0m invalid syntax. Perhaps you forgot a comma?\n"
     ]
    }
   ],
   "source": [
    "a = 6\n",
    "print(a > 2 not a < 8 )\n"
   ]
  },
  {
   "cell_type": "code",
   "execution_count": 17,
   "id": "c1edad40-6150-4a61-9ca6-25114f1e6e37",
   "metadata": {},
   "outputs": [
    {
     "name": "stdout",
     "output_type": "stream",
     "text": [
      "False\n"
     ]
    }
   ],
   "source": [
    "a = 6\n",
    "print(not(a > 2 and a < 8 ))"
   ]
  },
  {
   "cell_type": "code",
   "execution_count": null,
   "id": "77a0bfe6-cd6a-4858-84ed-75e4ada6e39a",
   "metadata": {},
   "outputs": [],
   "source": []
  }
 ],
 "metadata": {
  "kernelspec": {
   "display_name": "Python 3 (ipykernel)",
   "language": "python",
   "name": "python3"
  },
  "language_info": {
   "codemirror_mode": {
    "name": "ipython",
    "version": 3
   },
   "file_extension": ".py",
   "mimetype": "text/x-python",
   "name": "python",
   "nbconvert_exporter": "python",
   "pygments_lexer": "ipython3",
   "version": "3.12.4"
  }
 },
 "nbformat": 4,
 "nbformat_minor": 5
}
