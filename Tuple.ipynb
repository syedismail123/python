{
 "cells": [
  {
   "cell_type": "markdown",
   "id": "25866a3b-df34-427d-8585-48830bec0dca",
   "metadata": {},
   "source": [
    "Tuple;"
   ]
  },
  {
   "cell_type": "markdown",
   "id": "520fbbc6-77fb-4574-8754-4666bc79db56",
   "metadata": {},
   "source": [
    "Tuple:\n",
    "it is a collection of elements,values,items,objects\n",
    "Tuples are used to store multiple items in a single variable.\n",
    "Tuple is one of 4 built-in data types in Python used to store collections of data, the other 3 are List, Set, and Dictionary, all with different qualities and usage.\n",
    "A tuple is a collection which is ordered and unchangeable.\n",
    "Tuples are written with round brackets and seperated by comma(,).\n",
    "Tuples are immutable\n"
   ]
  },
  {
   "cell_type": "code",
   "execution_count": 13,
   "id": "c0af9e7d-0f28-4732-a23a-127ff7c67792",
   "metadata": {},
   "outputs": [
    {
     "name": "stdout",
     "output_type": "stream",
     "text": [
      "('apple', 'banana', 'orange')\n",
      "<class 'tuple'>\n"
     ]
    }
   ],
   "source": [
    "#example\n",
    "Fruits=(\"apple\",\"banana\",\"orange\")\n",
    "print(Fruits)\n",
    "print(type(Fruits))\n"
   ]
  },
  {
   "cell_type": "code",
   "execution_count": 37,
   "id": "aded424d-27a7-47cd-8ae3-d2814271a99f",
   "metadata": {},
   "outputs": [
    {
     "name": "stdout",
     "output_type": "stream",
     "text": [
      "('a', 'b', 'c', 'd', 1, 2, 3, 4, 5, (3+4j), True)\n",
      "<class 'tuple'>\n"
     ]
    }
   ],
   "source": [
    "word=('a','b','c','d',1,2,3,4,5,3+4j,True)\n",
    "print(word)\n",
    "print(type(word))"
   ]
  },
  {
   "cell_type": "code",
   "execution_count": 17,
   "id": "982062fd-b896-4712-8cf3-d1aa30e92c96",
   "metadata": {},
   "outputs": [
    {
     "name": "stdout",
     "output_type": "stream",
     "text": [
      "(1, 2, 3, 4, 5, 6, 6, 7, 9)\n"
     ]
    }
   ],
   "source": [
    "tuple =(1,2,3,4,5,6,6,7,9)\n",
    "print(tuple)"
   ]
  },
  {
   "cell_type": "code",
   "execution_count": 25,
   "id": "e032317d-e8bf-444f-8ce8-d2a6c911025f",
   "metadata": {},
   "outputs": [
    {
     "data": {
      "text/plain": [
       "'orange'"
      ]
     },
     "execution_count": 25,
     "metadata": {},
     "output_type": "execute_result"
    }
   ],
   "source": [
    "Fruits=(\"apple\",\"banana\",\"orange\")\n",
    "Fruits[2]#index"
   ]
  },
  {
   "cell_type": "code",
   "execution_count": 27,
   "id": "ed82f397-0d79-4f10-b135-bcdea972a7f0",
   "metadata": {},
   "outputs": [
    {
     "data": {
      "text/plain": [
       "'watermelon'"
      ]
     },
     "execution_count": 27,
     "metadata": {},
     "output_type": "execute_result"
    }
   ],
   "source": [
    "Fruits=(\"apple\",\"banana\",\"orange\",\"watermelon\")\n",
    "Fruits[3]#positive index"
   ]
  },
  {
   "cell_type": "code",
   "execution_count": 29,
   "id": "01e1cdcb-29d8-425c-a252-24970f33f31b",
   "metadata": {},
   "outputs": [
    {
     "data": {
      "text/plain": [
       "'banana'"
      ]
     },
     "execution_count": 29,
     "metadata": {},
     "output_type": "execute_result"
    }
   ],
   "source": [
    "Fruits[-3]#negative index"
   ]
  },
  {
   "cell_type": "code",
   "execution_count": 39,
   "id": "70f1885c-e45f-44bb-94e8-d6194168bebf",
   "metadata": {},
   "outputs": [
    {
     "data": {
      "text/plain": [
       "('c', 'd', 1, 2, 3, 4)"
      ]
     },
     "execution_count": 39,
     "metadata": {},
     "output_type": "execute_result"
    }
   ],
   "source": [
    "word=('a','b','c','d',1,2,3,4,5,3+4j,True)#slicing\n",
    "word[2:8]"
   ]
  },
  {
   "cell_type": "code",
   "execution_count": 41,
   "id": "9b484c64-0916-41ba-ae80-9cb561e2ce02",
   "metadata": {},
   "outputs": [
    {
     "data": {
      "text/plain": [
       "('apple', 'banana', 'orange')"
      ]
     },
     "execution_count": 41,
     "metadata": {},
     "output_type": "execute_result"
    }
   ],
   "source": [
    "Fruits=(\"apple\",\"banana\",\"orange\",\"watermelon\")\n",
    "Fruits[0:3]"
   ]
  },
  {
   "cell_type": "code",
   "execution_count": 43,
   "id": "de7ec269-cc17-437b-967f-423a3eb7d1d4",
   "metadata": {},
   "outputs": [
    {
     "data": {
      "text/plain": [
       "('apple', 'banana', 'orange', 'watermelon')"
      ]
     },
     "execution_count": 43,
     "metadata": {},
     "output_type": "execute_result"
    }
   ],
   "source": [
    "Fruits[0:]"
   ]
  },
  {
   "cell_type": "code",
   "execution_count": 45,
   "id": "bbf5b89c-b3cf-4223-93c9-56740a413f90",
   "metadata": {},
   "outputs": [
    {
     "data": {
      "text/plain": [
       "('apple', 'banana', 'orange', 'watermelon')"
      ]
     },
     "execution_count": 45,
     "metadata": {},
     "output_type": "execute_result"
    }
   ],
   "source": [
    "Fruits[:]"
   ]
  },
  {
   "cell_type": "code",
   "execution_count": 53,
   "id": "d72461a0-4445-4a52-b559-0714738d2308",
   "metadata": {},
   "outputs": [
    {
     "data": {
      "text/plain": [
       "('apple', 'banana', 'orange', 'watermelon')"
      ]
     },
     "execution_count": 53,
     "metadata": {},
     "output_type": "execute_result"
    }
   ],
   "source": [
    "Fruits[:4]"
   ]
  },
  {
   "cell_type": "code",
   "execution_count": 55,
   "id": "23257f84-58de-427d-bad2-bc28a247d164",
   "metadata": {},
   "outputs": [
    {
     "name": "stdout",
     "output_type": "stream",
     "text": [
      "(11, 22, 33, 44, 55, 666, 77, 88, 'data', 'science')\n"
     ]
    }
   ],
   "source": [
    "#concatenation\n",
    "Numbers =(11,22,33,44,55,666,77,88)\n",
    "char=(\"data\",\"science\")\n",
    "x = Numbers+char\n",
    "print(x)"
   ]
  },
  {
   "cell_type": "code",
   "execution_count": 57,
   "id": "c7017bea-63a6-4eb8-907e-2c2977b3301a",
   "metadata": {},
   "outputs": [
    {
     "name": "stdout",
     "output_type": "stream",
     "text": [
      "(1, 2, 3, 4, 5, 6, 6, 7, 9, 'a', 'b', 'c', 'd', 1, 2, 3, 4, 5, (3+4j), True)\n",
      "<class 'tuple'>\n"
     ]
    }
   ],
   "source": [
    "tuple =(1,2,3,4,5,6,6,7,9)\n",
    "word=('a','b','c','d',1,2,3,4,5,3+4j,True)\n",
    "x =tuple+word\n",
    "print(x)\n",
    "print(type(x))"
   ]
  },
  {
   "cell_type": "code",
   "execution_count": 72,
   "id": "3ae1500d-ceba-4694-b34a-176ff6717879",
   "metadata": {},
   "outputs": [
    {
     "data": {
      "text/plain": [
       "(1, 2, 3, 4, 5, 6, 6, 7, 9, 1, 2, 3, 4, 5, 6, 6, 7, 9)"
      ]
     },
     "execution_count": 72,
     "metadata": {},
     "output_type": "execute_result"
    }
   ],
   "source": [
    "#repetation of tuples\n",
    "\n",
    "tuple*2"
   ]
  },
  {
   "cell_type": "code",
   "execution_count": 94,
   "id": "1d2b4370-f5b3-4cb2-9db5-6ac944b7859d",
   "metadata": {},
   "outputs": [
    {
     "name": "stdout",
     "output_type": "stream",
     "text": [
      "2\n",
      "4\n"
     ]
    }
   ],
   "source": [
    "#Methods or Functions in tuple\n",
    "\n",
    "# couunt\n",
    "tuple = (1, 3, 7, 8, 7, 5, 4, 6, 8, 5)\n",
    "print(tuple.count(5))\n",
    "\n",
    "\n",
    "thistuple = (1, 3, 7, 8, 7, 44,55,66,7,7,88,5, 4, 6, 8, 5)\n",
    "\n",
    "x = thistuple.count(7)\n",
    "\n",
    "print(x)\n",
    "\n",
    "\n"
   ]
  },
  {
   "cell_type": "code",
   "execution_count": 98,
   "id": "b843ce68-7a62-46dc-879b-41df9a61d5a9",
   "metadata": {},
   "outputs": [
    {
     "name": "stdout",
     "output_type": "stream",
     "text": [
      "3\n"
     ]
    }
   ],
   "source": [
    "Tuple1 = (0, 1, 2, 3, 2, 3, 1, 3, 2) \n",
    "Tuple2 = ('python', 'geek', 'python', 'for', 'java', 'python') \n",
    "print(Tuple1.count(3))\n",
    "\n",
    "  "
   ]
  },
  {
   "cell_type": "code",
   "execution_count": 82,
   "id": "fe5e3b43-9839-4a53-b5f7-8374490dca64",
   "metadata": {},
   "outputs": [
    {
     "ename": "TypeError",
     "evalue": "'tuple' object is not callable",
     "output_type": "error",
     "traceback": [
      "\u001b[1;31m---------------------------------------------------------------------------\u001b[0m",
      "\u001b[1;31mTypeError\u001b[0m                                 Traceback (most recent call last)",
      "Cell \u001b[1;32mIn[82], line 4\u001b[0m\n\u001b[0;32m      2\u001b[0m y \u001b[38;5;241m=\u001b[39m \u001b[38;5;28mlist\u001b[39m(x)\n\u001b[0;32m      3\u001b[0m y[\u001b[38;5;241m1\u001b[39m] \u001b[38;5;241m=\u001b[39m \u001b[38;5;124m\"\u001b[39m\u001b[38;5;124mkiwi\u001b[39m\u001b[38;5;124m\"\u001b[39m\n\u001b[1;32m----> 4\u001b[0m x \u001b[38;5;241m=\u001b[39m \u001b[38;5;28mtuple\u001b[39m(y)\n\u001b[0;32m      6\u001b[0m \u001b[38;5;28mprint\u001b[39m(y)\n",
      "\u001b[1;31mTypeError\u001b[0m: 'tuple' object is not callable"
     ]
    }
   ],
   "source": [
    "# we can update the tuple by using list\n",
    "x = (\"apple\", \"banana\", \"cherry\")\n",
    "y = list(x)\n",
    "y = \"kiwi\"\n",
    "x = tuple(y)\n",
    "\n",
    "print(x)"
   ]
  },
  {
   "cell_type": "code",
   "execution_count": null,
   "id": "9b499c14-6d13-42ba-979a-f5472455dd99",
   "metadata": {},
   "outputs": [],
   "source": []
  },
  {
   "cell_type": "code",
   "execution_count": 86,
   "id": "1de9e275-ee19-4776-97c5-18ef1000b730",
   "metadata": {},
   "outputs": [
    {
     "ename": "TypeError",
     "evalue": "'tuple' object is not callable",
     "output_type": "error",
     "traceback": [
      "\u001b[1;31m---------------------------------------------------------------------------\u001b[0m",
      "\u001b[1;31mTypeError\u001b[0m                                 Traceback (most recent call last)",
      "Cell \u001b[1;32mIn[86], line 4\u001b[0m\n\u001b[0;32m      2\u001b[0m y \u001b[38;5;241m=\u001b[39m \u001b[38;5;28mlist\u001b[39m(\u001b[38;5;28mtuple\u001b[39m)\n\u001b[0;32m      3\u001b[0m y\u001b[38;5;241m.\u001b[39mappend(\u001b[38;5;124m\"\u001b[39m\u001b[38;5;124morange\u001b[39m\u001b[38;5;124m\"\u001b[39m)\n\u001b[1;32m----> 4\u001b[0m \u001b[38;5;28mtuple\u001b[39m \u001b[38;5;241m=\u001b[39m \u001b[38;5;28mtuple\u001b[39m(y)\n",
      "\u001b[1;31mTypeError\u001b[0m: 'tuple' object is not callable"
     ]
    }
   ],
   "source": [
    "#append\n",
    "tuple = (\"apple\", \"banana\", \"cherry\")\n",
    "y = list(tuple)\n",
    "y.append(\"orange\")\n",
    "tuple = tuple(y)"
   ]
  },
  {
   "cell_type": "code",
   "execution_count": 100,
   "id": "d3ee94eb-a303-4371-8e64-bf8611f5ab1d",
   "metadata": {},
   "outputs": [
    {
     "name": "stdout",
     "output_type": "stream",
     "text": [
      "8\n"
     ]
    }
   ],
   "source": [
    "#len method\n",
    "Tuple =( 1, 0, 4, 2, 5, 6, 7, 5)\n",
    "print(len(Tuple))"
   ]
  },
  {
   "cell_type": "code",
   "execution_count": null,
   "id": "7459bb17-c437-403b-ba68-bc6b66175796",
   "metadata": {},
   "outputs": [],
   "source": []
  }
 ],
 "metadata": {
  "kernelspec": {
   "display_name": "Python 3 (ipykernel)",
   "language": "python",
   "name": "python3"
  },
  "language_info": {
   "codemirror_mode": {
    "name": "ipython",
    "version": 3
   },
   "file_extension": ".py",
   "mimetype": "text/x-python",
   "name": "python",
   "nbconvert_exporter": "python",
   "pygments_lexer": "ipython3",
   "version": "3.12.4"
  }
 },
 "nbformat": 4,
 "nbformat_minor": 5
}
